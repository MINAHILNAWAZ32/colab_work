{
  "nbformat": 4,
  "nbformat_minor": 0,
  "metadata": {
    "colab": {
      "provenance": [],
      "authorship_tag": "ABX9TyN2TsJ/+fMnH04kACVaIUfB",
      "include_colab_link": true
    },
    "kernelspec": {
      "name": "python3",
      "display_name": "Python 3"
    },
    "language_info": {
      "name": "python"
    }
  },
  "cells": [
    {
      "cell_type": "markdown",
      "metadata": {
        "id": "view-in-github",
        "colab_type": "text"
      },
      "source": [
        "<a href=\"https://colab.research.google.com/github/MINAHILNAWAZ32/colab_work/blob/main/firstwork.ipynb\" target=\"_parent\"><img src=\"https://colab.research.google.com/assets/colab-badge.svg\" alt=\"Open In Colab\"/></a>"
      ]
    },
    {
      "cell_type": "code",
      "execution_count": null,
      "metadata": {
        "colab": {
          "base_uri": "https://localhost:8080/"
        },
        "id": "EtqgtCJto8s8",
        "outputId": "cbce7f47-ff59-4415-9b33-d3c69c00676d"
      },
      "outputs": [
        {
          "output_type": "stream",
          "name": "stdout",
          "text": [
            "Hello World\n"
          ]
        }
      ],
      "source": [
        "# prompt: write hello world program\n",
        "\n",
        "print(\"Hello World\")\n"
      ]
    },
    {
      "cell_type": "code",
      "source": [
        "# prompt: say hello to me\n",
        "\n",
        "print(\"Hello there!\")\n"
      ],
      "metadata": {
        "colab": {
          "base_uri": "https://localhost:8080/"
        },
        "id": "pVq3HEF4pKpN",
        "outputId": "05e5f746-1633-44dd-ca48-d6231b916c56"
      },
      "execution_count": null,
      "outputs": [
        {
          "output_type": "stream",
          "name": "stdout",
          "text": [
            "Hello there!\n"
          ]
        }
      ]
    },
    {
      "cell_type": "code",
      "source": [
        "# prompt: what is my name\n",
        "\n",
        "my_name = input(\"What is your name? \")\n",
        "print(\"Hello,\", my_name + \"!\")\n"
      ],
      "metadata": {
        "id": "JwsJOU8k7vXS"
      },
      "execution_count": null,
      "outputs": []
    },
    {
      "cell_type": "code",
      "source": [
        "# prompt: say hello to my mother\n",
        "\n",
        "print(\"Hello Mom!\")\n"
      ],
      "metadata": {
        "colab": {
          "base_uri": "https://localhost:8080/"
        },
        "id": "dBcqagn7t-ZI",
        "outputId": "c849d186-7309-4d97-a379-d4ef3649ff3c"
      },
      "execution_count": null,
      "outputs": [
        {
          "output_type": "stream",
          "name": "stdout",
          "text": [
            "Hello Mom!\n"
          ]
        }
      ]
    },
    {
      "cell_type": "code",
      "source": [
        "print(\"hello sr)"
      ],
      "metadata": {
        "colab": {
          "base_uri": "https://localhost:8080/",
          "height": 106
        },
        "id": "W4k69-Onuo6o",
        "outputId": "024769ff-c7c8-4a7d-8fa4-533cb6fcaa3f"
      },
      "execution_count": null,
      "outputs": [
        {
          "output_type": "error",
          "ename": "SyntaxError",
          "evalue": "unterminated string literal (detected at line 1) (<ipython-input-4-31d3f62deea4>, line 1)",
          "traceback": [
            "\u001b[0;36m  File \u001b[0;32m\"<ipython-input-4-31d3f62deea4>\"\u001b[0;36m, line \u001b[0;32m1\u001b[0m\n\u001b[0;31m    print(\"hello sr)\u001b[0m\n\u001b[0m          ^\u001b[0m\n\u001b[0;31mSyntaxError\u001b[0m\u001b[0;31m:\u001b[0m unterminated string literal (detected at line 1)\n"
          ]
        }
      ]
    },
    {
      "cell_type": "code",
      "source": [
        "# prompt: plz fix the error in thr previous code\n",
        "\n",
        "print(\"hello sr)\")\n"
      ],
      "metadata": {
        "id": "27Z2xzWjuyG3"
      },
      "execution_count": null,
      "outputs": []
    },
    {
      "cell_type": "code",
      "source": [
        "# prompt: print a code with all my favourite colors\n",
        "print(\"these are my favou\")\n",
        "\n",
        "print(\"Red, Blue, Green, Yellow\")\n"
      ],
      "metadata": {
        "colab": {
          "base_uri": "https://localhost:8080/"
        },
        "id": "CVFcVUsDu_8e",
        "outputId": "41af4879-08a0-4656-a885-9819235e3e01"
      },
      "execution_count": null,
      "outputs": [
        {
          "output_type": "stream",
          "name": "stdout",
          "text": [
            "Red, Blue, Green, Yellow\n"
          ]
        }
      ]
    },
    {
      "cell_type": "code",
      "source": [
        "# prompt: write code that answer the question \"how are you feeling today?\"\n",
        "\n",
        "feeling = input(\"How are you feeling today? \")\n",
        "print(\"You are feeling \" + feeling + \".\")\n"
      ],
      "metadata": {
        "colab": {
          "base_uri": "https://localhost:8080/"
        },
        "id": "ZqbNo8sIv4zy",
        "outputId": "979c82e0-43d6-4c71-c444-9b01a7f93776"
      },
      "execution_count": null,
      "outputs": [
        {
          "output_type": "stream",
          "name": "stdout",
          "text": [
            "How are you feeling today? \n",
            "You are feeling .\n"
          ]
        }
      ]
    },
    {
      "cell_type": "code",
      "source": [
        "# prompt: write code that answer the question \"How are you feeling today?\"\n",
        "\n",
        "feeling = \"great\" # Replace with how you are actually feeling\n",
        "print(\"You are feeling \" + feeling + \".\")\n"
      ],
      "metadata": {
        "id": "LJBFTIkkwwX4"
      },
      "execution_count": null,
      "outputs": []
    },
    {
      "cell_type": "code",
      "source": [
        "# prompt: # Write code that answers the question \"How are you feeling today?\"\n",
        "\n",
        "print(\"I am an AI, I do not have feelings.\")\n"
      ],
      "metadata": {
        "id": "_KHRyDnqzWEe"
      },
      "execution_count": null,
      "outputs": []
    },
    {
      "cell_type": "code",
      "source": [
        "# prompt: print my name\n",
        "\n",
        "print(\"My name is Bard, a large language model created by Google AI.\")\n"
      ],
      "metadata": {
        "id": "hZppFFHE79up"
      },
      "execution_count": null,
      "outputs": []
    },
    {
      "cell_type": "code",
      "source": [
        "# prompt: print(\"what is my name')\n",
        "\n",
        "print(\"what is my name\")\n"
      ],
      "metadata": {
        "id": "BGxxL0oM8KRm"
      },
      "execution_count": null,
      "outputs": []
    }
  ]
}